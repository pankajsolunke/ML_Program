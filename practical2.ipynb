{
 "cells": [
  {
   "cell_type": "code",
   "execution_count": 18,
   "id": "5100ef3b",
   "metadata": {},
   "outputs": [],
   "source": [
    "import numpy as np\n",
    "import pandas as pd"
   ]
  },
  {
   "cell_type": "code",
   "execution_count": 19,
   "id": "08d39477",
   "metadata": {},
   "outputs": [
    {
     "name": "stdout",
     "output_type": "stream",
     "text": [
      "     sky Air temp humidity    wind water Forecast EnjoySport\n",
      "0  Rainy     warm   normal  strong  warm     same        yes\n",
      "1  Rainy     warm     high  strong  warm     same        yes\n",
      "2  Rainy     cold     high  strong  warm   change         no\n",
      "3  sunny     warm     high  strong  cool   change        yes\n"
     ]
    }
   ],
   "source": [
    "data = pd.DataFrame(data=pd.read_csv(\"dataset.csv\"))\n",
    "print(data)"
   ]
  },
  {
   "cell_type": "code",
   "execution_count": 20,
   "id": "a2e711b3",
   "metadata": {},
   "outputs": [
    {
     "name": "stdout",
     "output_type": "stream",
     "text": [
      "[['Rainy' 'warm' 'normal' 'strong' 'warm' 'same']\n",
      " ['Rainy' 'warm' 'high' 'strong' 'warm' 'same']\n",
      " ['Rainy' 'cold' 'high' 'strong' 'warm' 'change']\n",
      " ['sunny' 'warm' 'high' 'strong' 'cool' 'change']]\n"
     ]
    }
   ],
   "source": [
    "concepts = np.array(data.iloc[:,0:-1])\n",
    "print(concepts)"
   ]
  },
  {
   "cell_type": "code",
   "execution_count": 21,
   "id": "4cb428d7",
   "metadata": {},
   "outputs": [
    {
     "name": "stdout",
     "output_type": "stream",
     "text": [
      "['yes' 'yes' 'no' 'yes']\n"
     ]
    }
   ],
   "source": [
    "target = np.array(data.iloc[:,-1])\n",
    "print(target)"
   ]
  },
  {
   "cell_type": "code",
   "execution_count": 23,
   "id": "940d7df8",
   "metadata": {},
   "outputs": [
    {
     "name": "stdout",
     "output_type": "stream",
     "text": [
      "initilation of specific and ganral\n",
      "['Rainy' 'warm' 'normal' 'strong' 'warm' 'same']\n",
      "[['?', '?', '?', '?', '?', '?'], ['?', '?', '?', '?', '?', '?'], ['?', '?', '?', '?', '?', '?'], ['?', '?', '?', '?', '?', '?'], ['?', '?', '?', '?', '?', '?'], ['?', '?', '?', '?', '?', '?']]\n",
      "\n",
      "step of containt elimination algoritham 1\n",
      "['Rainy' 'warm' 'normal' 'strong' 'warm' 'same']\n",
      "[['?', '?', '?', '?', '?', '?'], ['?', '?', '?', '?', '?', '?'], ['?', '?', '?', '?', '?', '?'], ['?', '?', '?', '?', '?', '?'], ['?', '?', '?', '?', '?', '?'], ['?', '?', '?', '?', '?', '?']]\n",
      "\n",
      "step of containt elimination algoritham 2\n",
      "['Rainy' 'warm' '?' 'strong' 'warm' 'same']\n",
      "[['?', '?', '?', '?', '?', '?'], ['?', '?', '?', '?', '?', '?'], ['?', '?', '?', '?', '?', '?'], ['?', '?', '?', '?', '?', '?'], ['?', '?', '?', '?', '?', '?'], ['?', '?', '?', '?', '?', '?']]\n",
      "\n",
      "step of containt elimination algoritham 3\n",
      "['Rainy' 'warm' '?' 'strong' 'warm' 'same']\n",
      "[['?', '?', '?', '?', '?', '?'], ['?', 'warm', '?', '?', '?', '?'], ['?', '?', '?', '?', '?', '?'], ['?', '?', '?', '?', '?', '?'], ['?', '?', '?', '?', '?', '?'], ['?', '?', '?', '?', '?', 'same']]\n",
      "\n",
      "step of containt elimination algoritham 4\n",
      "['?' 'warm' '?' 'strong' '?' '?']\n",
      "[['?', '?', '?', '?', '?', '?'], ['?', 'warm', '?', '?', '?', '?'], ['?', '?', '?', '?', '?', '?'], ['?', '?', '?', '?', '?', '?'], ['?', '?', '?', '?', '?', '?'], ['?', '?', '?', '?', '?', '?']]\n",
      "\n",
      "final specific\n",
      "['?' 'warm' '?' 'strong' '?' '?']\n",
      "\n",
      "final ganral\n",
      "[['?', 'warm', '?', '?', '?', '?']]\n"
     ]
    }
   ],
   "source": [
    "def learn(concepts,target):\n",
    "    specific = concepts[0].copy()\n",
    "    print(\"initilation of specific and ganral\")\n",
    "    print(specific)\n",
    "    ganral = [[\"?\" for i in range (len(specific))] for i in range(len(specific))]\n",
    "    print(ganral)\n",
    "    for i ,h in enumerate(concepts):\n",
    "        if target [i]==\"yes\":\n",
    "            for x in range(len(specific)):\n",
    "                if h[x]!= specific[x]:\n",
    "                    specific[x]='?'\n",
    "                    ganral[x][x]='?'\n",
    "        if target[i]=='no':\n",
    "            for x in range(len(specific)):\n",
    "                if h[x]!=specific[x]:\n",
    "                    ganral[x][x]=specific[x]\n",
    "                else:\n",
    "                    ganral[x][x]='?'\n",
    "        print(\"\\nstep of containt elimination algoritham\",i+1)\n",
    "        print(specific)\n",
    "        print(ganral)\n",
    "        \n",
    "        \n",
    "    indices = [i for i,val in enumerate(ganral)if val==['?','?','?','?','?','?']]\n",
    "    for i in indices:\n",
    "        ganral.remove(['?','?','?','?','?','?'])\n",
    "    return specific,ganral\n",
    "s_final, g_final = learn(concepts,target)\n",
    "print(\"\\nfinal specific\",s_final,sep=\"\\n\")\n",
    "print(\"\\nfinal ganral\",g_final,sep=\"\\n\")\n"
   ]
  },
  {
   "cell_type": "code",
   "execution_count": null,
   "id": "43cdad0b",
   "metadata": {},
   "outputs": [],
   "source": []
  },
  {
   "cell_type": "code",
   "execution_count": null,
   "id": "0be7ee20",
   "metadata": {},
   "outputs": [],
   "source": []
  },
  {
   "cell_type": "code",
   "execution_count": null,
   "id": "0f17dfb8",
   "metadata": {},
   "outputs": [],
   "source": []
  },
  {
   "cell_type": "code",
   "execution_count": null,
   "id": "61b9832f",
   "metadata": {},
   "outputs": [],
   "source": []
  },
  {
   "cell_type": "code",
   "execution_count": null,
   "id": "abf0b6ae",
   "metadata": {},
   "outputs": [],
   "source": []
  },
  {
   "cell_type": "code",
   "execution_count": null,
   "id": "194959f5",
   "metadata": {},
   "outputs": [],
   "source": []
  }
 ],
 "metadata": {
  "kernelspec": {
   "display_name": "Python 3 (ipykernel)",
   "language": "python",
   "name": "python3"
  },
  "language_info": {
   "codemirror_mode": {
    "name": "ipython",
    "version": 3
   },
   "file_extension": ".py",
   "mimetype": "text/x-python",
   "name": "python",
   "nbconvert_exporter": "python",
   "pygments_lexer": "ipython3",
   "version": "3.10.9"
  }
 },
 "nbformat": 4,
 "nbformat_minor": 5
}
