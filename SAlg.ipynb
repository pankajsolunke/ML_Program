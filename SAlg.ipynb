{
 "cells": [
  {
   "cell_type": "code",
   "execution_count": 6,
   "id": "53a6f6ce",
   "metadata": {},
   "outputs": [],
   "source": [
    "import pandas as pd\n",
    "import numpy as np"
   ]
  },
  {
   "cell_type": "code",
   "execution_count": 12,
   "id": "ac7c48d3",
   "metadata": {},
   "outputs": [
    {
     "name": "stdout",
     "output_type": "stream",
     "text": [
      "     sky Air temp humidity    wind water Forecast EnjoySport\n",
      "0  sunny     warm   normal  strong  warm     same        yes\n",
      "1  sunny     warm     high  strong  warm     same        yes\n",
      "2  Rainy     cold     high  strong  warm   change         no\n",
      "3  sunny     warm     high  strong  cool   change        yes\n"
     ]
    }
   ],
   "source": [
    "#to read the data in the csv file\n",
    "data = pd.read_csv(\"dataset.csv\")\n",
    "print(data)"
   ]
  },
  {
   "cell_type": "code",
   "execution_count": 22,
   "id": "15751823",
   "metadata": {},
   "outputs": [
    {
     "name": "stdout",
     "output_type": "stream",
     "text": [
      "The attributes are:  [['sunny' 'warm' 'normal' 'strong' 'warm' 'same']\n",
      " ['sunny' 'warm' 'high' 'strong' 'warm' 'same']\n",
      " ['Rainy' 'cold' 'high' 'strong' 'warm' 'change']\n",
      " ['sunny' 'warm' 'high' 'strong' 'cool' 'change']]\n"
     ]
    }
   ],
   "source": [
    "#making an array of all the attributes\n",
    "d = np.array(data)[:,: -1]\n",
    "print(\"The attributes are: \",d)"
   ]
  },
  {
   "cell_type": "code",
   "execution_count": 26,
   "id": "81ce2735",
   "metadata": {},
   "outputs": [
    {
     "name": "stdout",
     "output_type": "stream",
     "text": [
      "The target is:  ['yes' 'yes' 'no' 'yes']\n"
     ]
    }
   ],
   "source": [
    "#segragating the target that has postive and negative examples\n",
    "target = np.array(data)[:,-1]\n",
    "print(\"The target is: \",target)"
   ]
  },
  {
   "cell_type": "code",
   "execution_count": 27,
   "id": "d4c6b102",
   "metadata": {},
   "outputs": [],
   "source": [
    "#training function to implement find S Algoithm\n",
    "def train(c,t):\n",
    "    for i,val in enumerate(t):\n",
    "        if val == \"yes\":\n",
    "            specific_hypothesis = c[i].copy()\n",
    "            break\n",
    "            \n",
    "    for i,val in enumerate(c):\n",
    "        if t[i] == \"yes\":\n",
    "            for x in range(len(specific_hypothesis)):\n",
    "                if val[x] != specific_hypothesis[x]:\n",
    "                    specific_hypothesis[x] = '?'\n",
    "                else:\n",
    "                    pass\n",
    "    return specific_hypothesis"
   ]
  },
  {
   "cell_type": "code",
   "execution_count": 53,
   "id": "ef040a85",
   "metadata": {},
   "outputs": [
    {
     "name": "stdout",
     "output_type": "stream",
     "text": [
      "The final hypothesis is:  ['sunny' 'warm' '?' 'strong' '?' '?']\n"
     ]
    }
   ],
   "source": [
    "print(\"The final hypothesis is: \",train(d,target))"
   ]
  },
  {
   "cell_type": "code",
   "execution_count": null,
   "id": "cd872de7",
   "metadata": {},
   "outputs": [],
   "source": []
  }
 ],
 "metadata": {
  "kernelspec": {
   "display_name": "Python 3 (ipykernel)",
   "language": "python",
   "name": "python3"
  },
  "language_info": {
   "codemirror_mode": {
    "name": "ipython",
    "version": 3
   },
   "file_extension": ".py",
   "mimetype": "text/x-python",
   "name": "python",
   "nbconvert_exporter": "python",
   "pygments_lexer": "ipython3",
   "version": "3.10.9"
  }
 },
 "nbformat": 4,
 "nbformat_minor": 5
}
