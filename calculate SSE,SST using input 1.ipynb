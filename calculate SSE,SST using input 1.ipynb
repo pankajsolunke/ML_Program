{
 "cells": [
  {
   "cell_type": "code",
   "execution_count": 1,
   "id": "aeddcccf",
   "metadata": {},
   "outputs": [],
   "source": [
    "import numpy as np"
   ]
  },
  {
   "cell_type": "code",
   "execution_count": 2,
   "id": "0d3c826b",
   "metadata": {},
   "outputs": [],
   "source": [
    "# Function to perform single-variable linear regression\n",
    "def linear_regression(X, y):\n",
    " n = len(X)"
   ]
  },
  {
   "cell_type": "code",
   "execution_count": 3,
   "id": "4fd445a0",
   "metadata": {},
   "outputs": [],
   "source": [
    "def linear_regression(X, y):\n",
    " n = len(X)\n",
    " # Calculate mean of X and y\n",
    " X_mean = np.mean(X)\n",
    " y_mean = np.mean(y)\n",
    " # Calculate slope (m) and y-intercept (c) using least squares method\n",
    " numerator = sum((X[i] - X_mean) * (y[i] - y_mean) for i in range(n))\n",
    " denominator = sum((X[i] - X_mean) ** 2 for i in range(n))\n",
    " m = numerator / denominator\n",
    " c = y_mean - m * X_mean\n",
    " # Calculate predicted y values\n",
    " y_pred = [m * X[i] + c for i in range(n)]\n",
    " # Calculate Sum of Squared Errors (SSE)\n",
    " sse = sum((y[i] - y_pred[i]) ** 2 for i in range(n))\n",
    " # Calculate Total Sum of Squares (SST)\n",
    " sst = sum((y[i] - y_mean) ** 2 for i in range(n))\n",
    " # Calculate R Square\n",
    " r_square = 1 - (sse / sst)\n",
    " # Calculate Adjusted R Square\n",
    " adj_r_square = 1 - (sse / (n - 2 - 1)) / (sst / (n - 1))\n",
    " return m, c, sse, sst, r_square, adj_r_square"
   ]
  },
  {
   "cell_type": "code",
   "execution_count": 4,
   "id": "21705f21",
   "metadata": {},
   "outputs": [],
   "source": [
    "X = np.array([0, 1, 2, 3, 4, 5, 6, 7, 8, 9])\n",
    "y = np.array([1, 3, 2, 5, 7, 8, 8, 9, 10, 12])"
   ]
  },
  {
   "cell_type": "code",
   "execution_count": 5,
   "id": "db9fc518",
   "metadata": {},
   "outputs": [],
   "source": [
    "# Perform linear regression\n",
    "m, c, sse, sst, r_square, adj_r_square = linear_regression(X, y)"
   ]
  },
  {
   "cell_type": "code",
   "execution_count": 6,
   "id": "2e968d01",
   "metadata": {},
   "outputs": [
    {
     "name": "stdout",
     "output_type": "stream",
     "text": [
      "Slope (m): 1.1696969696969697\n",
      "Y-intercept (c): 1.2363636363636363\n",
      "Sum of Squared Errors (SSE): 5.624242424242421\n",
      "Total Sum of Squares (SST): 118.5\n",
      "R Square: 0.952538038613988\n",
      "Adjusted R Square: 0.9389774782179846\n"
     ]
    }
   ],
   "source": [
    "\n",
    "# Print results\n",
    "print(\"Slope (m):\", m)\n",
    "print(\"Y-intercept (c):\", c)\n",
    "print(\"Sum of Squared Errors (SSE):\", sse)\n",
    "print(\"Total Sum of Squares (SST):\", sst)\n",
    "print(\"R Square:\", r_square)\n",
    "print(\"Adjusted R Square:\", adj_r_square)"
   ]
  },
  {
   "cell_type": "code",
   "execution_count": null,
   "id": "7b961755",
   "metadata": {},
   "outputs": [],
   "source": []
  }
 ],
 "metadata": {
  "kernelspec": {
   "display_name": "Python 3 (ipykernel)",
   "language": "python",
   "name": "python3"
  },
  "language_info": {
   "codemirror_mode": {
    "name": "ipython",
    "version": 3
   },
   "file_extension": ".py",
   "mimetype": "text/x-python",
   "name": "python",
   "nbconvert_exporter": "python",
   "pygments_lexer": "ipython3",
   "version": "3.10.9"
  }
 },
 "nbformat": 4,
 "nbformat_minor": 5
}
