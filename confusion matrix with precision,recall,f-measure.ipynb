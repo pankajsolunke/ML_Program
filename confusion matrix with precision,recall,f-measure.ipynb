{
 "cells": [
  {
   "cell_type": "code",
   "execution_count": 1,
   "id": "53cba6f9",
   "metadata": {},
   "outputs": [],
   "source": [
    "import numpy as np"
   ]
  },
  {
   "cell_type": "code",
   "execution_count": 3,
   "id": "bce471f5",
   "metadata": {},
   "outputs": [],
   "source": [
    "\n",
    "def confusion_matrix(actual, predicted):\n",
    " tp = sum(1 for i in range(len(actual)) if actual[i] == 1 and predicted[i] == 1)\n",
    " fp = sum(1 for i in range(len(actual)) if actual[i] == 0 and predicted[i] == 1)\n",
    " tn = sum(1 for i in range(len(actual)) if actual[i] == 0 and predicted[i] == 0)\n",
    " fn = sum(1 for i in range(len(actual)) if actual[i] == 1 and predicted[i] == 0)\n",
    " return tp, fp, tn, fn\n",
    "def precision(tp, fp):\n",
    " if tp + fp == 0:\n",
    "  return 0\n",
    " return tp / (tp + fp)\n",
    "def recall(tp, fn):\n",
    " if tp + fn == 0:\n",
    "  return 0\n",
    " return tp / (tp + fn)\n",
    "def f_measure(precision, recall):\n",
    " if precision + recall == 0:\n",
    "  return 0\n",
    " return 2 * precision * recall / (precision + recall)"
   ]
  },
  {
   "cell_type": "code",
   "execution_count": 4,
   "id": "0db43de0",
   "metadata": {},
   "outputs": [],
   "source": [
    "# Function to display confusion matrix in matrix format\n",
    "def display_confusion_matrix(tp, fp, tn, fn):\n",
    " print(\"Confusion Matrix:\")\n",
    " print(f\" Predicted\")\n",
    " print(f\"Actual | Positive | Negative\")\n",
    " print(f\"--------------------------------\")\n",
    " print(f\"Positive | {tp} | {fn}\")\n",
    " print(f\"Negative | {fp} | {tn}\")"
   ]
  },
  {
   "cell_type": "code",
   "execution_count": 5,
   "id": "7f76cd24",
   "metadata": {},
   "outputs": [
    {
     "name": "stdout",
     "output_type": "stream",
     "text": [
      "Confusion Matrix:\n",
      " Predicted\n",
      "Actual | Positive | Negative\n",
      "--------------------------------\n",
      "Positive | 4 | 1\n",
      "Negative | 1 | 2\n",
      "\n",
      "Precision: 0.8\n",
      "Recall: 0.8\n",
      "F-Measure: 0.8000000000000002\n"
     ]
    }
   ],
   "source": [
    "# Example usage\n",
    "actual = [1, 0, 1, 1, 0, 1, 0, 1]\n",
    "predicted = [1, 1, 1, 1, 0, 1, 0, 0]\n",
    "tp, fp, tn, fn = confusion_matrix(actual, predicted)\n",
    "prec = precision(tp, fp)\n",
    "rec = recall(tp, fn)\n",
    "f_meas = f_measure(prec, rec)\n",
    "display_confusion_matrix(tp, fp, tn, fn)\n",
    "print(\"\\nPrecision:\", prec)\n",
    "print(\"Recall:\", rec)\n",
    "print(\"F-Measure:\", f_meas)"
   ]
  },
  {
   "cell_type": "code",
   "execution_count": null,
   "id": "04bf8fcf",
   "metadata": {},
   "outputs": [],
   "source": []
  }
 ],
 "metadata": {
  "kernelspec": {
   "display_name": "Python 3 (ipykernel)",
   "language": "python",
   "name": "python3"
  },
  "language_info": {
   "codemirror_mode": {
    "name": "ipython",
    "version": 3
   },
   "file_extension": ".py",
   "mimetype": "text/x-python",
   "name": "python",
   "nbconvert_exporter": "python",
   "pygments_lexer": "ipython3",
   "version": "3.10.9"
  }
 },
 "nbformat": 4,
 "nbformat_minor": 5
}
